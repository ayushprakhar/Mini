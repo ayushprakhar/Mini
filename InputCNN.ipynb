{
 "cells": [
  {
   "cell_type": "code",
   "execution_count": 1,
   "id": "35af7aab",
   "metadata": {},
   "outputs": [],
   "source": [
    "from tensorflow.keras.models import load_model\n",
    "from tensorflow.keras.preprocessing import image\n",
    "import numpy as np\n",
    "\n"
   ]
  },
  {
   "cell_type": "code",
   "execution_count": 2,
   "id": "c9bf6f8a",
   "metadata": {},
   "outputs": [
    {
     "name": "stdout",
     "output_type": "stream",
     "text": [
      "Enter path to image: D:\\test_dataset\\4581.jpg\n",
      "1/1 [==============================] - 0s 427ms/step\n",
      "Predicted class: Potato___Late_blight\n",
      "The predicted class is: Potato___Late_blight\n"
     ]
    }
   ],
   "source": [
    "# Load the saved model\n",
    "model = load_model('C:\\\\Users\\\\Ayush\\\\Mini project\\\\new_PlantDiseaseCNN_model_1.hdf5')\n",
    "\n",
    "# Define the image size the model was trained on\n",
    "img_size = (224, 224)\n",
    "\n",
    "# Define the classes the model can predict\n",
    "classes = ['Pepper__bell___Bacterial_spot', 'Pepper__bell___healthy', 'Potato___Early_blight', 'Potato___Late_blight', 'Potato___healthy', 'Tomato_Early_blight', 'Tomato__Target_Spot', 'Tomato__Tomato_mosaic_virus', 'Tomato_healthy']\n",
    "\n",
    "# Take input from the user for the new image to predict\n",
    "img_path = input('Enter path to image: ')\n",
    "\n",
    "# Load the image and resize it to the appropriate size\n",
    "img = image.load_img(img_path, target_size=(180, 180))\n",
    "\n",
    "# Convert the image to a numpy array\n",
    "img_array = image.img_to_array(img)\n",
    "\n",
    "# Expand the dimensions of the image to match the expected input of the model\n",
    "img_array = np.expand_dims(img_array, axis=0)\n",
    "\n",
    "# Use the model to make a prediction on the new image\n",
    "prediction = model.predict(img_array)\n",
    "\n",
    "# Get the predicted class label\n",
    "predicted_class = classes[np.argmax(prediction)]\n",
    "print(\"Predicted class:\", predicted_class)\n",
    "\n",
    "# Print the predicted class label\n",
    "print('The predicted class is:', predicted_class)\n"
   ]
  },
  {
   "cell_type": "code",
   "execution_count": null,
   "id": "149f355e",
   "metadata": {},
   "outputs": [],
   "source": []
  },
  {
   "cell_type": "code",
   "execution_count": null,
   "id": "74d34f7e",
   "metadata": {},
   "outputs": [],
   "source": []
  }
 ],
 "metadata": {
  "kernelspec": {
   "display_name": "Python 3 (ipykernel)",
   "language": "python",
   "name": "python3"
  },
  "language_info": {
   "codemirror_mode": {
    "name": "ipython",
    "version": 3
   },
   "file_extension": ".py",
   "mimetype": "text/x-python",
   "name": "python",
   "nbconvert_exporter": "python",
   "pygments_lexer": "ipython3",
   "version": "3.9.7"
  }
 },
 "nbformat": 4,
 "nbformat_minor": 5
}
