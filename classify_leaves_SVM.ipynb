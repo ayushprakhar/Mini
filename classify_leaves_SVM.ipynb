{
 "cells": [
  {
   "cell_type": "code",
   "execution_count": 3,
   "metadata": {},
   "outputs": [],
   "source": [
    "import numpy as np\n",
    "import pandas as pd\n",
    "import os\n",
    "import string"
   ]
  },
  {
   "cell_type": "code",
   "execution_count": 4,
   "metadata": {},
   "outputs": [],
   "source": [
    "dataset = pd.read_csv(\"plant_village.csv\")"
   ]
  },
  {
   "cell_type": "code",
   "execution_count": 5,
   "metadata": {},
   "outputs": [
    {
     "data": {
      "text/html": [
       "<div>\n",
       "<style scoped>\n",
       "    .dataframe tbody tr th:only-of-type {\n",
       "        vertical-align: middle;\n",
       "    }\n",
       "\n",
       "    .dataframe tbody tr th {\n",
       "        vertical-align: top;\n",
       "    }\n",
       "\n",
       "    .dataframe thead th {\n",
       "        text-align: right;\n",
       "    }\n",
       "</style>\n",
       "<table border=\"1\" class=\"dataframe\">\n",
       "  <thead>\n",
       "    <tr style=\"text-align: right;\">\n",
       "      <th></th>\n",
       "      <th>Unnamed: 0</th>\n",
       "      <th>mean_r</th>\n",
       "      <th>mean_g</th>\n",
       "      <th>mean_b</th>\n",
       "      <th>stddev_r</th>\n",
       "      <th>stddev_g</th>\n",
       "      <th>stddev_b</th>\n",
       "      <th>contrast</th>\n",
       "      <th>correlation</th>\n",
       "      <th>inverse_difference_moments</th>\n",
       "      <th>entropy</th>\n",
       "    </tr>\n",
       "  </thead>\n",
       "  <tbody>\n",
       "    <tr>\n",
       "      <th>0</th>\n",
       "      <td>0</td>\n",
       "      <td>117.790039</td>\n",
       "      <td>112.281937</td>\n",
       "      <td>88.975372</td>\n",
       "      <td>62.803414</td>\n",
       "      <td>55.060273</td>\n",
       "      <td>57.626233</td>\n",
       "      <td>857.463806</td>\n",
       "      <td>0.867999</td>\n",
       "      <td>0.099647</td>\n",
       "      <td>13.764864</td>\n",
       "    </tr>\n",
       "    <tr>\n",
       "      <th>1</th>\n",
       "      <td>0</td>\n",
       "      <td>112.080215</td>\n",
       "      <td>107.789764</td>\n",
       "      <td>91.389282</td>\n",
       "      <td>62.988810</td>\n",
       "      <td>62.458323</td>\n",
       "      <td>61.001448</td>\n",
       "      <td>696.885215</td>\n",
       "      <td>0.908840</td>\n",
       "      <td>0.172357</td>\n",
       "      <td>13.173184</td>\n",
       "    </tr>\n",
       "    <tr>\n",
       "      <th>2</th>\n",
       "      <td>0</td>\n",
       "      <td>112.467712</td>\n",
       "      <td>108.217575</td>\n",
       "      <td>87.693390</td>\n",
       "      <td>66.660472</td>\n",
       "      <td>58.265177</td>\n",
       "      <td>61.509947</td>\n",
       "      <td>733.238879</td>\n",
       "      <td>0.900423</td>\n",
       "      <td>0.107662</td>\n",
       "      <td>13.709102</td>\n",
       "    </tr>\n",
       "    <tr>\n",
       "      <th>3</th>\n",
       "      <td>0</td>\n",
       "      <td>112.491959</td>\n",
       "      <td>109.424240</td>\n",
       "      <td>90.323166</td>\n",
       "      <td>69.045947</td>\n",
       "      <td>64.958983</td>\n",
       "      <td>64.073281</td>\n",
       "      <td>679.573666</td>\n",
       "      <td>0.921391</td>\n",
       "      <td>0.161202</td>\n",
       "      <td>13.108321</td>\n",
       "    </tr>\n",
       "    <tr>\n",
       "      <th>4</th>\n",
       "      <td>0</td>\n",
       "      <td>103.671600</td>\n",
       "      <td>105.110229</td>\n",
       "      <td>84.027481</td>\n",
       "      <td>63.946737</td>\n",
       "      <td>55.354258</td>\n",
       "      <td>62.367494</td>\n",
       "      <td>777.560811</td>\n",
       "      <td>0.884743</td>\n",
       "      <td>0.086718</td>\n",
       "      <td>13.849433</td>\n",
       "    </tr>\n",
       "    <tr>\n",
       "      <th>5</th>\n",
       "      <td>0</td>\n",
       "      <td>116.449295</td>\n",
       "      <td>118.561050</td>\n",
       "      <td>98.574631</td>\n",
       "      <td>60.724918</td>\n",
       "      <td>52.766714</td>\n",
       "      <td>58.981723</td>\n",
       "      <td>744.760676</td>\n",
       "      <td>0.878429</td>\n",
       "      <td>0.094233</td>\n",
       "      <td>13.683384</td>\n",
       "    </tr>\n",
       "    <tr>\n",
       "      <th>6</th>\n",
       "      <td>0</td>\n",
       "      <td>104.995422</td>\n",
       "      <td>103.336456</td>\n",
       "      <td>81.728195</td>\n",
       "      <td>56.973054</td>\n",
       "      <td>52.000846</td>\n",
       "      <td>52.246195</td>\n",
       "      <td>927.823212</td>\n",
       "      <td>0.831939</td>\n",
       "      <td>0.110301</td>\n",
       "      <td>13.706414</td>\n",
       "    </tr>\n",
       "    <tr>\n",
       "      <th>7</th>\n",
       "      <td>0</td>\n",
       "      <td>109.785187</td>\n",
       "      <td>107.767181</td>\n",
       "      <td>90.015030</td>\n",
       "      <td>57.494146</td>\n",
       "      <td>54.534486</td>\n",
       "      <td>56.212149</td>\n",
       "      <td>1017.233272</td>\n",
       "      <td>0.831622</td>\n",
       "      <td>0.099224</td>\n",
       "      <td>13.854956</td>\n",
       "    </tr>\n",
       "    <tr>\n",
       "      <th>8</th>\n",
       "      <td>0</td>\n",
       "      <td>109.822433</td>\n",
       "      <td>111.091125</td>\n",
       "      <td>91.285156</td>\n",
       "      <td>66.115114</td>\n",
       "      <td>60.474886</td>\n",
       "      <td>65.453289</td>\n",
       "      <td>949.525057</td>\n",
       "      <td>0.876875</td>\n",
       "      <td>0.097041</td>\n",
       "      <td>13.960042</td>\n",
       "    </tr>\n",
       "    <tr>\n",
       "      <th>9</th>\n",
       "      <td>0</td>\n",
       "      <td>113.621780</td>\n",
       "      <td>112.152313</td>\n",
       "      <td>92.486328</td>\n",
       "      <td>70.269675</td>\n",
       "      <td>65.040349</td>\n",
       "      <td>69.558344</td>\n",
       "      <td>925.174736</td>\n",
       "      <td>0.895641</td>\n",
       "      <td>0.118860</td>\n",
       "      <td>13.745604</td>\n",
       "    </tr>\n",
       "    <tr>\n",
       "      <th>10</th>\n",
       "      <td>0</td>\n",
       "      <td>107.240265</td>\n",
       "      <td>106.842255</td>\n",
       "      <td>86.658508</td>\n",
       "      <td>65.431968</td>\n",
       "      <td>58.931324</td>\n",
       "      <td>60.522142</td>\n",
       "      <td>993.196368</td>\n",
       "      <td>0.864058</td>\n",
       "      <td>0.101535</td>\n",
       "      <td>13.874499</td>\n",
       "    </tr>\n",
       "    <tr>\n",
       "      <th>11</th>\n",
       "      <td>0</td>\n",
       "      <td>118.521637</td>\n",
       "      <td>116.982162</td>\n",
       "      <td>99.752441</td>\n",
       "      <td>64.824158</td>\n",
       "      <td>63.286447</td>\n",
       "      <td>64.003983</td>\n",
       "      <td>927.324321</td>\n",
       "      <td>0.884321</td>\n",
       "      <td>0.111339</td>\n",
       "      <td>13.727265</td>\n",
       "    </tr>\n",
       "    <tr>\n",
       "      <th>12</th>\n",
       "      <td>0</td>\n",
       "      <td>108.028366</td>\n",
       "      <td>107.008774</td>\n",
       "      <td>82.302109</td>\n",
       "      <td>61.306011</td>\n",
       "      <td>53.745461</td>\n",
       "      <td>57.201163</td>\n",
       "      <td>754.888419</td>\n",
       "      <td>0.878148</td>\n",
       "      <td>0.121477</td>\n",
       "      <td>13.466401</td>\n",
       "    </tr>\n",
       "    <tr>\n",
       "      <th>13</th>\n",
       "      <td>0</td>\n",
       "      <td>111.353989</td>\n",
       "      <td>110.802353</td>\n",
       "      <td>82.386581</td>\n",
       "      <td>73.244220</td>\n",
       "      <td>62.873049</td>\n",
       "      <td>70.394395</td>\n",
       "      <td>682.792741</td>\n",
       "      <td>0.922181</td>\n",
       "      <td>0.129325</td>\n",
       "      <td>13.192706</td>\n",
       "    </tr>\n",
       "    <tr>\n",
       "      <th>14</th>\n",
       "      <td>0</td>\n",
       "      <td>113.399506</td>\n",
       "      <td>111.105301</td>\n",
       "      <td>89.453171</td>\n",
       "      <td>63.682029</td>\n",
       "      <td>56.769691</td>\n",
       "      <td>58.262251</td>\n",
       "      <td>842.686622</td>\n",
       "      <td>0.876204</td>\n",
       "      <td>0.109992</td>\n",
       "      <td>13.614192</td>\n",
       "    </tr>\n",
       "    <tr>\n",
       "      <th>15</th>\n",
       "      <td>0</td>\n",
       "      <td>123.310471</td>\n",
       "      <td>122.369675</td>\n",
       "      <td>98.228989</td>\n",
       "      <td>56.621664</td>\n",
       "      <td>56.750894</td>\n",
       "      <td>55.532968</td>\n",
       "      <td>772.290342</td>\n",
       "      <td>0.875579</td>\n",
       "      <td>0.132120</td>\n",
       "      <td>13.220140</td>\n",
       "    </tr>\n",
       "    <tr>\n",
       "      <th>16</th>\n",
       "      <td>0</td>\n",
       "      <td>130.848816</td>\n",
       "      <td>122.310318</td>\n",
       "      <td>82.216431</td>\n",
       "      <td>46.310461</td>\n",
       "      <td>46.888467</td>\n",
       "      <td>48.174689</td>\n",
       "      <td>505.164331</td>\n",
       "      <td>0.875874</td>\n",
       "      <td>0.112188</td>\n",
       "      <td>13.164496</td>\n",
       "    </tr>\n",
       "    <tr>\n",
       "      <th>17</th>\n",
       "      <td>0</td>\n",
       "      <td>133.589951</td>\n",
       "      <td>123.988876</td>\n",
       "      <td>86.454254</td>\n",
       "      <td>47.264430</td>\n",
       "      <td>51.289619</td>\n",
       "      <td>50.890647</td>\n",
       "      <td>488.074174</td>\n",
       "      <td>0.896292</td>\n",
       "      <td>0.137808</td>\n",
       "      <td>13.067467</td>\n",
       "    </tr>\n",
       "    <tr>\n",
       "      <th>18</th>\n",
       "      <td>0</td>\n",
       "      <td>124.754684</td>\n",
       "      <td>115.900864</td>\n",
       "      <td>77.668961</td>\n",
       "      <td>53.800951</td>\n",
       "      <td>48.822436</td>\n",
       "      <td>56.086172</td>\n",
       "      <td>537.138531</td>\n",
       "      <td>0.892142</td>\n",
       "      <td>0.087140</td>\n",
       "      <td>13.518176</td>\n",
       "    </tr>\n",
       "    <tr>\n",
       "      <th>19</th>\n",
       "      <td>0</td>\n",
       "      <td>121.621719</td>\n",
       "      <td>113.762573</td>\n",
       "      <td>78.418396</td>\n",
       "      <td>54.192716</td>\n",
       "      <td>53.712421</td>\n",
       "      <td>51.602353</td>\n",
       "      <td>751.622962</td>\n",
       "      <td>0.863810</td>\n",
       "      <td>0.093388</td>\n",
       "      <td>13.646243</td>\n",
       "    </tr>\n",
       "    <tr>\n",
       "      <th>20</th>\n",
       "      <td>0</td>\n",
       "      <td>106.216812</td>\n",
       "      <td>103.022888</td>\n",
       "      <td>72.292557</td>\n",
       "      <td>53.796739</td>\n",
       "      <td>45.871407</td>\n",
       "      <td>52.150755</td>\n",
       "      <td>705.552295</td>\n",
       "      <td>0.844291</td>\n",
       "      <td>0.083926</td>\n",
       "      <td>13.648070</td>\n",
       "    </tr>\n",
       "    <tr>\n",
       "      <th>21</th>\n",
       "      <td>0</td>\n",
       "      <td>119.184982</td>\n",
       "      <td>117.101120</td>\n",
       "      <td>81.756424</td>\n",
       "      <td>48.899367</td>\n",
       "      <td>52.392109</td>\n",
       "      <td>47.521741</td>\n",
       "      <td>579.820799</td>\n",
       "      <td>0.880495</td>\n",
       "      <td>0.130114</td>\n",
       "      <td>13.000106</td>\n",
       "    </tr>\n",
       "    <tr>\n",
       "      <th>22</th>\n",
       "      <td>0</td>\n",
       "      <td>111.755600</td>\n",
       "      <td>107.632233</td>\n",
       "      <td>78.969620</td>\n",
       "      <td>57.673053</td>\n",
       "      <td>53.804473</td>\n",
       "      <td>56.163176</td>\n",
       "      <td>798.887917</td>\n",
       "      <td>0.863700</td>\n",
       "      <td>0.117215</td>\n",
       "      <td>13.649525</td>\n",
       "    </tr>\n",
       "    <tr>\n",
       "      <th>23</th>\n",
       "      <td>0</td>\n",
       "      <td>112.001282</td>\n",
       "      <td>107.148239</td>\n",
       "      <td>78.318512</td>\n",
       "      <td>61.113198</td>\n",
       "      <td>58.300220</td>\n",
       "      <td>60.450028</td>\n",
       "      <td>823.537969</td>\n",
       "      <td>0.879507</td>\n",
       "      <td>0.122323</td>\n",
       "      <td>13.404557</td>\n",
       "    </tr>\n",
       "    <tr>\n",
       "      <th>24</th>\n",
       "      <td>0</td>\n",
       "      <td>104.524689</td>\n",
       "      <td>100.926941</td>\n",
       "      <td>72.494812</td>\n",
       "      <td>59.462055</td>\n",
       "      <td>52.488022</td>\n",
       "      <td>56.980916</td>\n",
       "      <td>707.664470</td>\n",
       "      <td>0.879465</td>\n",
       "      <td>0.093908</td>\n",
       "      <td>13.629134</td>\n",
       "    </tr>\n",
       "    <tr>\n",
       "      <th>25</th>\n",
       "      <td>0</td>\n",
       "      <td>105.015244</td>\n",
       "      <td>99.495422</td>\n",
       "      <td>69.736618</td>\n",
       "      <td>69.344207</td>\n",
       "      <td>62.372279</td>\n",
       "      <td>69.050772</td>\n",
       "      <td>412.745400</td>\n",
       "      <td>0.950098</td>\n",
       "      <td>0.176331</td>\n",
       "      <td>12.585781</td>\n",
       "    </tr>\n",
       "    <tr>\n",
       "      <th>26</th>\n",
       "      <td>0</td>\n",
       "      <td>112.460480</td>\n",
       "      <td>105.512375</td>\n",
       "      <td>81.785736</td>\n",
       "      <td>61.187051</td>\n",
       "      <td>54.876784</td>\n",
       "      <td>56.324822</td>\n",
       "      <td>798.283362</td>\n",
       "      <td>0.873786</td>\n",
       "      <td>0.099801</td>\n",
       "      <td>13.609713</td>\n",
       "    </tr>\n",
       "    <tr>\n",
       "      <th>27</th>\n",
       "      <td>0</td>\n",
       "      <td>113.651642</td>\n",
       "      <td>111.493805</td>\n",
       "      <td>79.277466</td>\n",
       "      <td>53.839530</td>\n",
       "      <td>55.345667</td>\n",
       "      <td>51.979449</td>\n",
       "      <td>801.930389</td>\n",
       "      <td>0.859513</td>\n",
       "      <td>0.128783</td>\n",
       "      <td>13.324107</td>\n",
       "    </tr>\n",
       "    <tr>\n",
       "      <th>28</th>\n",
       "      <td>0</td>\n",
       "      <td>100.085342</td>\n",
       "      <td>99.324814</td>\n",
       "      <td>75.211395</td>\n",
       "      <td>63.735467</td>\n",
       "      <td>58.374294</td>\n",
       "      <td>59.809017</td>\n",
       "      <td>807.605897</td>\n",
       "      <td>0.885359</td>\n",
       "      <td>0.131795</td>\n",
       "      <td>13.398646</td>\n",
       "    </tr>\n",
       "    <tr>\n",
       "      <th>29</th>\n",
       "      <td>0</td>\n",
       "      <td>107.968765</td>\n",
       "      <td>106.324600</td>\n",
       "      <td>78.857712</td>\n",
       "      <td>63.085733</td>\n",
       "      <td>57.972161</td>\n",
       "      <td>60.687080</td>\n",
       "      <td>913.277999</td>\n",
       "      <td>0.868018</td>\n",
       "      <td>0.110280</td>\n",
       "      <td>13.641575</td>\n",
       "    </tr>\n",
       "  </tbody>\n",
       "</table>\n",
       "</div>"
      ],
      "text/plain": [
       "    Unnamed: 0      mean_r      mean_g     mean_b   stddev_r   stddev_g  \\\n",
       "0            0  117.790039  112.281937  88.975372  62.803414  55.060273   \n",
       "1            0  112.080215  107.789764  91.389282  62.988810  62.458323   \n",
       "2            0  112.467712  108.217575  87.693390  66.660472  58.265177   \n",
       "3            0  112.491959  109.424240  90.323166  69.045947  64.958983   \n",
       "4            0  103.671600  105.110229  84.027481  63.946737  55.354258   \n",
       "5            0  116.449295  118.561050  98.574631  60.724918  52.766714   \n",
       "6            0  104.995422  103.336456  81.728195  56.973054  52.000846   \n",
       "7            0  109.785187  107.767181  90.015030  57.494146  54.534486   \n",
       "8            0  109.822433  111.091125  91.285156  66.115114  60.474886   \n",
       "9            0  113.621780  112.152313  92.486328  70.269675  65.040349   \n",
       "10           0  107.240265  106.842255  86.658508  65.431968  58.931324   \n",
       "11           0  118.521637  116.982162  99.752441  64.824158  63.286447   \n",
       "12           0  108.028366  107.008774  82.302109  61.306011  53.745461   \n",
       "13           0  111.353989  110.802353  82.386581  73.244220  62.873049   \n",
       "14           0  113.399506  111.105301  89.453171  63.682029  56.769691   \n",
       "15           0  123.310471  122.369675  98.228989  56.621664  56.750894   \n",
       "16           0  130.848816  122.310318  82.216431  46.310461  46.888467   \n",
       "17           0  133.589951  123.988876  86.454254  47.264430  51.289619   \n",
       "18           0  124.754684  115.900864  77.668961  53.800951  48.822436   \n",
       "19           0  121.621719  113.762573  78.418396  54.192716  53.712421   \n",
       "20           0  106.216812  103.022888  72.292557  53.796739  45.871407   \n",
       "21           0  119.184982  117.101120  81.756424  48.899367  52.392109   \n",
       "22           0  111.755600  107.632233  78.969620  57.673053  53.804473   \n",
       "23           0  112.001282  107.148239  78.318512  61.113198  58.300220   \n",
       "24           0  104.524689  100.926941  72.494812  59.462055  52.488022   \n",
       "25           0  105.015244   99.495422  69.736618  69.344207  62.372279   \n",
       "26           0  112.460480  105.512375  81.785736  61.187051  54.876784   \n",
       "27           0  113.651642  111.493805  79.277466  53.839530  55.345667   \n",
       "28           0  100.085342   99.324814  75.211395  63.735467  58.374294   \n",
       "29           0  107.968765  106.324600  78.857712  63.085733  57.972161   \n",
       "\n",
       "     stddev_b     contrast  correlation  inverse_difference_moments    entropy  \n",
       "0   57.626233   857.463806     0.867999                    0.099647  13.764864  \n",
       "1   61.001448   696.885215     0.908840                    0.172357  13.173184  \n",
       "2   61.509947   733.238879     0.900423                    0.107662  13.709102  \n",
       "3   64.073281   679.573666     0.921391                    0.161202  13.108321  \n",
       "4   62.367494   777.560811     0.884743                    0.086718  13.849433  \n",
       "5   58.981723   744.760676     0.878429                    0.094233  13.683384  \n",
       "6   52.246195   927.823212     0.831939                    0.110301  13.706414  \n",
       "7   56.212149  1017.233272     0.831622                    0.099224  13.854956  \n",
       "8   65.453289   949.525057     0.876875                    0.097041  13.960042  \n",
       "9   69.558344   925.174736     0.895641                    0.118860  13.745604  \n",
       "10  60.522142   993.196368     0.864058                    0.101535  13.874499  \n",
       "11  64.003983   927.324321     0.884321                    0.111339  13.727265  \n",
       "12  57.201163   754.888419     0.878148                    0.121477  13.466401  \n",
       "13  70.394395   682.792741     0.922181                    0.129325  13.192706  \n",
       "14  58.262251   842.686622     0.876204                    0.109992  13.614192  \n",
       "15  55.532968   772.290342     0.875579                    0.132120  13.220140  \n",
       "16  48.174689   505.164331     0.875874                    0.112188  13.164496  \n",
       "17  50.890647   488.074174     0.896292                    0.137808  13.067467  \n",
       "18  56.086172   537.138531     0.892142                    0.087140  13.518176  \n",
       "19  51.602353   751.622962     0.863810                    0.093388  13.646243  \n",
       "20  52.150755   705.552295     0.844291                    0.083926  13.648070  \n",
       "21  47.521741   579.820799     0.880495                    0.130114  13.000106  \n",
       "22  56.163176   798.887917     0.863700                    0.117215  13.649525  \n",
       "23  60.450028   823.537969     0.879507                    0.122323  13.404557  \n",
       "24  56.980916   707.664470     0.879465                    0.093908  13.629134  \n",
       "25  69.050772   412.745400     0.950098                    0.176331  12.585781  \n",
       "26  56.324822   798.283362     0.873786                    0.099801  13.609713  \n",
       "27  51.979449   801.930389     0.859513                    0.128783  13.324107  \n",
       "28  59.809017   807.605897     0.885359                    0.131795  13.398646  \n",
       "29  60.687080   913.277999     0.868018                    0.110280  13.641575  "
      ]
     },
     "execution_count": 5,
     "metadata": {},
     "output_type": "execute_result"
    }
   ],
   "source": [
    "dataset.head(30)"
   ]
  },
  {
   "cell_type": "code",
   "execution_count": 6,
   "metadata": {},
   "outputs": [
    {
     "data": {
      "text/plain": [
       "pandas.core.frame.DataFrame"
      ]
     },
     "execution_count": 6,
     "metadata": {},
     "output_type": "execute_result"
    }
   ],
   "source": [
    "type(dataset)"
   ]
  },
  {
   "cell_type": "code",
   "execution_count": 7,
   "metadata": {},
   "outputs": [],
   "source": [
    "maindir = r'C:\\Mini Project\\PlantVillage'\n",
    "ds_path = maindir + \"\\\\PlantVillage\"\n",
    "img_files = os.listdir(ds_path)"
   ]
  },
  {
   "cell_type": "code",
   "execution_count": 8,
   "metadata": {},
   "outputs": [
    {
     "data": {
      "text/plain": [
       "'1000.JPG'"
      ]
     },
     "execution_count": 8,
     "metadata": {},
     "output_type": "execute_result"
    }
   ],
   "source": [
    "img_files[0]"
   ]
  },
  {
   "cell_type": "code",
   "execution_count": 9,
   "metadata": {},
   "outputs": [
    {
     "name": "stdout",
     "output_type": "stream",
     "text": [
      "18\n"
     ]
    }
   ],
   "source": [
    "breakpoints = [1000,1939,1940,3415,3416,4415,4416,4567,4568,5567,5568,6971,6972,7344,7345,8344,8345,9343]\n",
    "print(len(breakpoints))"
   ]
  },
  {
   "cell_type": "code",
   "execution_count": 10,
   "metadata": {},
   "outputs": [],
   "source": [
    "\n",
    "target_list = []\n",
    "for file in img_files:\n",
    "    target_num = int(file.split(\".\")[0])\n",
    "    #print(target_num)\n",
    "    flag = 0\n",
    "    i = 0 \n",
    "    for i in range(0,len(breakpoints),2):\n",
    "        if((target_num >= breakpoints[i]) and (target_num <= breakpoints[i+1])):\n",
    "            flag = 1\n",
    "            break\n",
    "    \n",
    "    if(flag==1):\n",
    "        target = int((i/2))\n",
    "        target_list.append(target)"
   ]
  },
  {
   "cell_type": "code",
   "execution_count": 11,
   "metadata": {},
   "outputs": [
    {
     "data": {
      "text/plain": [
       "array([0, 0, 0, ..., 8, 8, 8])"
      ]
     },
     "execution_count": 11,
     "metadata": {},
     "output_type": "execute_result"
    }
   ],
   "source": [
    "y = np.array(target_list)\n",
    "y"
   ]
  },
  {
   "cell_type": "code",
   "execution_count": 12,
   "metadata": {},
   "outputs": [],
   "source": [
    "\n",
    "X = dataset.iloc[:,1:]"
   ]
  },
  {
   "cell_type": "code",
   "execution_count": 13,
   "metadata": {},
   "outputs": [
    {
     "data": {
      "text/html": [
       "<div>\n",
       "<style scoped>\n",
       "    .dataframe tbody tr th:only-of-type {\n",
       "        vertical-align: middle;\n",
       "    }\n",
       "\n",
       "    .dataframe tbody tr th {\n",
       "        vertical-align: top;\n",
       "    }\n",
       "\n",
       "    .dataframe thead th {\n",
       "        text-align: right;\n",
       "    }\n",
       "</style>\n",
       "<table border=\"1\" class=\"dataframe\">\n",
       "  <thead>\n",
       "    <tr style=\"text-align: right;\">\n",
       "      <th></th>\n",
       "      <th>mean_r</th>\n",
       "      <th>mean_g</th>\n",
       "      <th>mean_b</th>\n",
       "      <th>stddev_r</th>\n",
       "      <th>stddev_g</th>\n",
       "      <th>stddev_b</th>\n",
       "      <th>contrast</th>\n",
       "      <th>correlation</th>\n",
       "      <th>inverse_difference_moments</th>\n",
       "      <th>entropy</th>\n",
       "    </tr>\n",
       "  </thead>\n",
       "  <tbody>\n",
       "    <tr>\n",
       "      <th>0</th>\n",
       "      <td>117.790039</td>\n",
       "      <td>112.281937</td>\n",
       "      <td>88.975372</td>\n",
       "      <td>62.803414</td>\n",
       "      <td>55.060273</td>\n",
       "      <td>57.626233</td>\n",
       "      <td>857.463806</td>\n",
       "      <td>0.867999</td>\n",
       "      <td>0.099647</td>\n",
       "      <td>13.764864</td>\n",
       "    </tr>\n",
       "    <tr>\n",
       "      <th>1</th>\n",
       "      <td>112.080215</td>\n",
       "      <td>107.789764</td>\n",
       "      <td>91.389282</td>\n",
       "      <td>62.988810</td>\n",
       "      <td>62.458323</td>\n",
       "      <td>61.001448</td>\n",
       "      <td>696.885215</td>\n",
       "      <td>0.908840</td>\n",
       "      <td>0.172357</td>\n",
       "      <td>13.173184</td>\n",
       "    </tr>\n",
       "    <tr>\n",
       "      <th>2</th>\n",
       "      <td>112.467712</td>\n",
       "      <td>108.217575</td>\n",
       "      <td>87.693390</td>\n",
       "      <td>66.660472</td>\n",
       "      <td>58.265177</td>\n",
       "      <td>61.509947</td>\n",
       "      <td>733.238879</td>\n",
       "      <td>0.900423</td>\n",
       "      <td>0.107662</td>\n",
       "      <td>13.709102</td>\n",
       "    </tr>\n",
       "    <tr>\n",
       "      <th>3</th>\n",
       "      <td>112.491959</td>\n",
       "      <td>109.424240</td>\n",
       "      <td>90.323166</td>\n",
       "      <td>69.045947</td>\n",
       "      <td>64.958983</td>\n",
       "      <td>64.073281</td>\n",
       "      <td>679.573666</td>\n",
       "      <td>0.921391</td>\n",
       "      <td>0.161202</td>\n",
       "      <td>13.108321</td>\n",
       "    </tr>\n",
       "    <tr>\n",
       "      <th>4</th>\n",
       "      <td>103.671600</td>\n",
       "      <td>105.110229</td>\n",
       "      <td>84.027481</td>\n",
       "      <td>63.946737</td>\n",
       "      <td>55.354258</td>\n",
       "      <td>62.367494</td>\n",
       "      <td>777.560811</td>\n",
       "      <td>0.884743</td>\n",
       "      <td>0.086718</td>\n",
       "      <td>13.849433</td>\n",
       "    </tr>\n",
       "  </tbody>\n",
       "</table>\n",
       "</div>"
      ],
      "text/plain": [
       "       mean_r      mean_g     mean_b   stddev_r   stddev_g   stddev_b  \\\n",
       "0  117.790039  112.281937  88.975372  62.803414  55.060273  57.626233   \n",
       "1  112.080215  107.789764  91.389282  62.988810  62.458323  61.001448   \n",
       "2  112.467712  108.217575  87.693390  66.660472  58.265177  61.509947   \n",
       "3  112.491959  109.424240  90.323166  69.045947  64.958983  64.073281   \n",
       "4  103.671600  105.110229  84.027481  63.946737  55.354258  62.367494   \n",
       "\n",
       "     contrast  correlation  inverse_difference_moments    entropy  \n",
       "0  857.463806     0.867999                    0.099647  13.764864  \n",
       "1  696.885215     0.908840                    0.172357  13.173184  \n",
       "2  733.238879     0.900423                    0.107662  13.709102  \n",
       "3  679.573666     0.921391                    0.161202  13.108321  \n",
       "4  777.560811     0.884743                    0.086718  13.849433  "
      ]
     },
     "execution_count": 13,
     "metadata": {},
     "output_type": "execute_result"
    }
   ],
   "source": [
    "X.head(5)"
   ]
  },
  {
   "cell_type": "code",
   "execution_count": 14,
   "metadata": {},
   "outputs": [
    {
     "data": {
      "text/plain": [
       "array([0, 0, 0, 0, 0])"
      ]
     },
     "execution_count": 14,
     "metadata": {},
     "output_type": "execute_result"
    }
   ],
   "source": [
    "y[0:5]"
   ]
  },
  {
   "cell_type": "code",
   "execution_count": 15,
   "metadata": {},
   "outputs": [],
   "source": [
    "#Train test split"
   ]
  },
  {
   "cell_type": "code",
   "execution_count": 16,
   "metadata": {},
   "outputs": [],
   "source": [
    "from sklearn.model_selection import train_test_split"
   ]
  },
  {
   "cell_type": "code",
   "execution_count": 17,
   "metadata": {},
   "outputs": [],
   "source": [
    "X_train, X_test, y_train, y_test = train_test_split(X, y, test_size=0.3, random_state = 142)"
   ]
  },
  {
   "cell_type": "code",
   "execution_count": 18,
   "metadata": {},
   "outputs": [
    {
     "data": {
      "text/html": [
       "<div>\n",
       "<style scoped>\n",
       "    .dataframe tbody tr th:only-of-type {\n",
       "        vertical-align: middle;\n",
       "    }\n",
       "\n",
       "    .dataframe tbody tr th {\n",
       "        vertical-align: top;\n",
       "    }\n",
       "\n",
       "    .dataframe thead th {\n",
       "        text-align: right;\n",
       "    }\n",
       "</style>\n",
       "<table border=\"1\" class=\"dataframe\">\n",
       "  <thead>\n",
       "    <tr style=\"text-align: right;\">\n",
       "      <th></th>\n",
       "      <th>mean_r</th>\n",
       "      <th>mean_g</th>\n",
       "      <th>mean_b</th>\n",
       "      <th>stddev_r</th>\n",
       "      <th>stddev_g</th>\n",
       "      <th>stddev_b</th>\n",
       "      <th>contrast</th>\n",
       "      <th>correlation</th>\n",
       "      <th>inverse_difference_moments</th>\n",
       "      <th>entropy</th>\n",
       "    </tr>\n",
       "  </thead>\n",
       "  <tbody>\n",
       "    <tr>\n",
       "      <th>5179</th>\n",
       "      <td>109.615463</td>\n",
       "      <td>115.586853</td>\n",
       "      <td>106.491241</td>\n",
       "      <td>52.799924</td>\n",
       "      <td>45.442031</td>\n",
       "      <td>55.727154</td>\n",
       "      <td>653.416478</td>\n",
       "      <td>0.857381</td>\n",
       "      <td>0.100276</td>\n",
       "      <td>13.572705</td>\n",
       "    </tr>\n",
       "    <tr>\n",
       "      <th>7282</th>\n",
       "      <td>99.161606</td>\n",
       "      <td>105.368729</td>\n",
       "      <td>92.845657</td>\n",
       "      <td>58.394167</td>\n",
       "      <td>52.963564</td>\n",
       "      <td>64.870073</td>\n",
       "      <td>405.813729</td>\n",
       "      <td>0.934026</td>\n",
       "      <td>0.154922</td>\n",
       "      <td>13.095573</td>\n",
       "    </tr>\n",
       "    <tr>\n",
       "      <th>7787</th>\n",
       "      <td>127.180389</td>\n",
       "      <td>126.926270</td>\n",
       "      <td>118.861954</td>\n",
       "      <td>43.939206</td>\n",
       "      <td>41.987259</td>\n",
       "      <td>46.813779</td>\n",
       "      <td>1830.466171</td>\n",
       "      <td>0.495912</td>\n",
       "      <td>0.037902</td>\n",
       "      <td>14.205334</td>\n",
       "    </tr>\n",
       "    <tr>\n",
       "      <th>4317</th>\n",
       "      <td>132.390533</td>\n",
       "      <td>132.544250</td>\n",
       "      <td>112.158859</td>\n",
       "      <td>45.112291</td>\n",
       "      <td>42.449809</td>\n",
       "      <td>54.904626</td>\n",
       "      <td>713.680496</td>\n",
       "      <td>0.813964</td>\n",
       "      <td>0.080620</td>\n",
       "      <td>13.594763</td>\n",
       "    </tr>\n",
       "    <tr>\n",
       "      <th>5746</th>\n",
       "      <td>129.253052</td>\n",
       "      <td>129.352631</td>\n",
       "      <td>119.264786</td>\n",
       "      <td>44.799852</td>\n",
       "      <td>31.744768</td>\n",
       "      <td>44.937014</td>\n",
       "      <td>509.348244</td>\n",
       "      <td>0.809975</td>\n",
       "      <td>0.061873</td>\n",
       "      <td>13.386313</td>\n",
       "    </tr>\n",
       "  </tbody>\n",
       "</table>\n",
       "</div>"
      ],
      "text/plain": [
       "          mean_r      mean_g      mean_b   stddev_r   stddev_g   stddev_b  \\\n",
       "5179  109.615463  115.586853  106.491241  52.799924  45.442031  55.727154   \n",
       "7282   99.161606  105.368729   92.845657  58.394167  52.963564  64.870073   \n",
       "7787  127.180389  126.926270  118.861954  43.939206  41.987259  46.813779   \n",
       "4317  132.390533  132.544250  112.158859  45.112291  42.449809  54.904626   \n",
       "5746  129.253052  129.352631  119.264786  44.799852  31.744768  44.937014   \n",
       "\n",
       "         contrast  correlation  inverse_difference_moments    entropy  \n",
       "5179   653.416478     0.857381                    0.100276  13.572705  \n",
       "7282   405.813729     0.934026                    0.154922  13.095573  \n",
       "7787  1830.466171     0.495912                    0.037902  14.205334  \n",
       "4317   713.680496     0.813964                    0.080620  13.594763  \n",
       "5746   509.348244     0.809975                    0.061873  13.386313  "
      ]
     },
     "execution_count": 18,
     "metadata": {},
     "output_type": "execute_result"
    }
   ],
   "source": [
    "X_train.head(5)"
   ]
  },
  {
   "cell_type": "code",
   "execution_count": 19,
   "metadata": {},
   "outputs": [
    {
     "data": {
      "text/plain": [
       "(5840, 10)"
      ]
     },
     "execution_count": 19,
     "metadata": {},
     "output_type": "execute_result"
    }
   ],
   "source": [
    "X_train.shape"
   ]
  },
  {
   "cell_type": "code",
   "execution_count": 20,
   "metadata": {},
   "outputs": [
    {
     "data": {
      "text/plain": [
       "array([5, 7, 8, 4, 5])"
      ]
     },
     "execution_count": 20,
     "metadata": {},
     "output_type": "execute_result"
    }
   ],
   "source": [
    "y_train[0:5]"
   ]
  },
  {
   "cell_type": "code",
   "execution_count": 21,
   "metadata": {},
   "outputs": [],
   "source": [
    "#Feature Scaling"
   ]
  },
  {
   "cell_type": "code",
   "execution_count": 22,
   "metadata": {},
   "outputs": [],
   "source": [
    "from sklearn.preprocessing import StandardScaler"
   ]
  },
  {
   "cell_type": "code",
   "execution_count": 23,
   "metadata": {},
   "outputs": [],
   "source": [
    "sc_X = StandardScaler()\n",
    "X_train = sc_X.fit_transform(X_train)\n",
    "X_test = sc_X.transform(X_test)"
   ]
  },
  {
   "cell_type": "code",
   "execution_count": 24,
   "metadata": {},
   "outputs": [
    {
     "data": {
      "text/plain": [
       "array([[-0.70448763, -0.58545692, -0.19594613,  0.42895452,  0.2748205 ,\n",
       "         0.26175046, -0.26218199,  0.4293126 , -0.03659771,  0.35389056],\n",
       "       [-1.40961811, -1.28049984, -1.24094308,  1.13043289,  1.13796023,\n",
       "         1.46286125, -0.75277322,  1.09969053,  1.13338537, -0.3574401 ]])"
      ]
     },
     "execution_count": 24,
     "metadata": {},
     "output_type": "execute_result"
    }
   ],
   "source": [
    "X_train[0:2]"
   ]
  },
  {
   "cell_type": "code",
   "execution_count": 25,
   "metadata": {},
   "outputs": [
    {
     "data": {
      "text/plain": [
       "array([5, 7])"
      ]
     },
     "execution_count": 25,
     "metadata": {},
     "output_type": "execute_result"
    }
   ],
   "source": [
    "y_train[0:2]"
   ]
  },
  {
   "cell_type": "code",
   "execution_count": 26,
   "metadata": {},
   "outputs": [],
   "source": [
    "#Applying SVM classifier model"
   ]
  },
  {
   "cell_type": "code",
   "execution_count": 27,
   "metadata": {},
   "outputs": [],
   "source": [
    "from sklearn import svm"
   ]
  },
  {
   "cell_type": "code",
   "execution_count": 28,
   "metadata": {},
   "outputs": [
    {
     "data": {
      "text/html": [
       "<style>#sk-container-id-1 {color: black;background-color: white;}#sk-container-id-1 pre{padding: 0;}#sk-container-id-1 div.sk-toggleable {background-color: white;}#sk-container-id-1 label.sk-toggleable__label {cursor: pointer;display: block;width: 100%;margin-bottom: 0;padding: 0.3em;box-sizing: border-box;text-align: center;}#sk-container-id-1 label.sk-toggleable__label-arrow:before {content: \"▸\";float: left;margin-right: 0.25em;color: #696969;}#sk-container-id-1 label.sk-toggleable__label-arrow:hover:before {color: black;}#sk-container-id-1 div.sk-estimator:hover label.sk-toggleable__label-arrow:before {color: black;}#sk-container-id-1 div.sk-toggleable__content {max-height: 0;max-width: 0;overflow: hidden;text-align: left;background-color: #f0f8ff;}#sk-container-id-1 div.sk-toggleable__content pre {margin: 0.2em;color: black;border-radius: 0.25em;background-color: #f0f8ff;}#sk-container-id-1 input.sk-toggleable__control:checked~div.sk-toggleable__content {max-height: 200px;max-width: 100%;overflow: auto;}#sk-container-id-1 input.sk-toggleable__control:checked~label.sk-toggleable__label-arrow:before {content: \"▾\";}#sk-container-id-1 div.sk-estimator input.sk-toggleable__control:checked~label.sk-toggleable__label {background-color: #d4ebff;}#sk-container-id-1 div.sk-label input.sk-toggleable__control:checked~label.sk-toggleable__label {background-color: #d4ebff;}#sk-container-id-1 input.sk-hidden--visually {border: 0;clip: rect(1px 1px 1px 1px);clip: rect(1px, 1px, 1px, 1px);height: 1px;margin: -1px;overflow: hidden;padding: 0;position: absolute;width: 1px;}#sk-container-id-1 div.sk-estimator {font-family: monospace;background-color: #f0f8ff;border: 1px dotted black;border-radius: 0.25em;box-sizing: border-box;margin-bottom: 0.5em;}#sk-container-id-1 div.sk-estimator:hover {background-color: #d4ebff;}#sk-container-id-1 div.sk-parallel-item::after {content: \"\";width: 100%;border-bottom: 1px solid gray;flex-grow: 1;}#sk-container-id-1 div.sk-label:hover label.sk-toggleable__label {background-color: #d4ebff;}#sk-container-id-1 div.sk-serial::before {content: \"\";position: absolute;border-left: 1px solid gray;box-sizing: border-box;top: 0;bottom: 0;left: 50%;z-index: 0;}#sk-container-id-1 div.sk-serial {display: flex;flex-direction: column;align-items: center;background-color: white;padding-right: 0.2em;padding-left: 0.2em;position: relative;}#sk-container-id-1 div.sk-item {position: relative;z-index: 1;}#sk-container-id-1 div.sk-parallel {display: flex;align-items: stretch;justify-content: center;background-color: white;position: relative;}#sk-container-id-1 div.sk-item::before, #sk-container-id-1 div.sk-parallel-item::before {content: \"\";position: absolute;border-left: 1px solid gray;box-sizing: border-box;top: 0;bottom: 0;left: 50%;z-index: -1;}#sk-container-id-1 div.sk-parallel-item {display: flex;flex-direction: column;z-index: 1;position: relative;background-color: white;}#sk-container-id-1 div.sk-parallel-item:first-child::after {align-self: flex-end;width: 50%;}#sk-container-id-1 div.sk-parallel-item:last-child::after {align-self: flex-start;width: 50%;}#sk-container-id-1 div.sk-parallel-item:only-child::after {width: 0;}#sk-container-id-1 div.sk-dashed-wrapped {border: 1px dashed gray;margin: 0 0.4em 0.5em 0.4em;box-sizing: border-box;padding-bottom: 0.4em;background-color: white;}#sk-container-id-1 div.sk-label label {font-family: monospace;font-weight: bold;display: inline-block;line-height: 1.2em;}#sk-container-id-1 div.sk-label-container {text-align: center;}#sk-container-id-1 div.sk-container {/* jupyter's `normalize.less` sets `[hidden] { display: none; }` but bootstrap.min.css set `[hidden] { display: none !important; }` so we also need the `!important` here to be able to override the default hidden behavior on the sphinx rendered scikit-learn.org. See: https://github.com/scikit-learn/scikit-learn/issues/21755 */display: inline-block !important;position: relative;}#sk-container-id-1 div.sk-text-repr-fallback {display: none;}</style><div id=\"sk-container-id-1\" class=\"sk-top-container\"><div class=\"sk-text-repr-fallback\"><pre>SVC(C=100.0, gamma=0.01)</pre><b>In a Jupyter environment, please rerun this cell to show the HTML representation or trust the notebook. <br />On GitHub, the HTML representation is unable to render, please try loading this page with nbviewer.org.</b></div><div class=\"sk-container\" hidden><div class=\"sk-item\"><div class=\"sk-estimator sk-toggleable\"><input class=\"sk-toggleable__control sk-hidden--visually\" id=\"sk-estimator-id-1\" type=\"checkbox\" checked><label for=\"sk-estimator-id-1\" class=\"sk-toggleable__label sk-toggleable__label-arrow\">SVC</label><div class=\"sk-toggleable__content\"><pre>SVC(C=100.0, gamma=0.01)</pre></div></div></div></div></div>"
      ],
      "text/plain": [
       "SVC(C=100.0, gamma=0.01)"
      ]
     },
     "execution_count": 28,
     "metadata": {},
     "output_type": "execute_result"
    }
   ],
   "source": [
    "clf = svm.SVC(C=100.0, cache_size=200, class_weight=None, coef0=0.0,\n",
    "  decision_function_shape='ovr', degree=3, gamma=0.01, kernel='rbf',\n",
    "  max_iter=-1, probability=False, random_state=None, shrinking=True,\n",
    "  tol=0.001, verbose=False)\n",
    "clf.fit(X_train,y_train)"
   ]
  },
  {
   "cell_type": "code",
   "execution_count": 29,
   "metadata": {},
   "outputs": [],
   "source": [
    "y_pred = clf.predict(X_test)"
   ]
  },
  {
   "cell_type": "code",
   "execution_count": 30,
   "metadata": {},
   "outputs": [],
   "source": [
    "from sklearn import metrics"
   ]
  },
  {
   "cell_type": "code",
   "execution_count": 31,
   "metadata": {},
   "outputs": [
    {
     "data": {
      "text/plain": [
       "0.8869808306709265"
      ]
     },
     "execution_count": 31,
     "metadata": {},
     "output_type": "execute_result"
    }
   ],
   "source": [
    "metrics.accuracy_score(y_test, y_pred)"
   ]
  },
  {
   "cell_type": "code",
   "execution_count": 32,
   "metadata": {},
   "outputs": [],
   "source": [
    "from sklearn.model_selection import GridSearchCV\n"
   ]
  },
  {
   "cell_type": "code",
   "execution_count": 33,
   "metadata": {},
   "outputs": [],
   "source": [
    "parameters = [{'kernel': ['rbf'],\n",
    "               'gamma': [1e-4, 1e-3, 0.01, 0.1, 0.2, 0.5],\n",
    "               'C': [1, 10, 100, 1000]},\n",
    "              {'kernel': ['linear'], 'C': [1, 10, 100, 1000]}\n",
    "             ]"
   ]
  },
  {
   "cell_type": "code",
   "execution_count": 34,
   "metadata": {},
   "outputs": [
    {
     "data": {
      "text/html": [
       "<style>#sk-container-id-2 {color: black;background-color: white;}#sk-container-id-2 pre{padding: 0;}#sk-container-id-2 div.sk-toggleable {background-color: white;}#sk-container-id-2 label.sk-toggleable__label {cursor: pointer;display: block;width: 100%;margin-bottom: 0;padding: 0.3em;box-sizing: border-box;text-align: center;}#sk-container-id-2 label.sk-toggleable__label-arrow:before {content: \"▸\";float: left;margin-right: 0.25em;color: #696969;}#sk-container-id-2 label.sk-toggleable__label-arrow:hover:before {color: black;}#sk-container-id-2 div.sk-estimator:hover label.sk-toggleable__label-arrow:before {color: black;}#sk-container-id-2 div.sk-toggleable__content {max-height: 0;max-width: 0;overflow: hidden;text-align: left;background-color: #f0f8ff;}#sk-container-id-2 div.sk-toggleable__content pre {margin: 0.2em;color: black;border-radius: 0.25em;background-color: #f0f8ff;}#sk-container-id-2 input.sk-toggleable__control:checked~div.sk-toggleable__content {max-height: 200px;max-width: 100%;overflow: auto;}#sk-container-id-2 input.sk-toggleable__control:checked~label.sk-toggleable__label-arrow:before {content: \"▾\";}#sk-container-id-2 div.sk-estimator input.sk-toggleable__control:checked~label.sk-toggleable__label {background-color: #d4ebff;}#sk-container-id-2 div.sk-label input.sk-toggleable__control:checked~label.sk-toggleable__label {background-color: #d4ebff;}#sk-container-id-2 input.sk-hidden--visually {border: 0;clip: rect(1px 1px 1px 1px);clip: rect(1px, 1px, 1px, 1px);height: 1px;margin: -1px;overflow: hidden;padding: 0;position: absolute;width: 1px;}#sk-container-id-2 div.sk-estimator {font-family: monospace;background-color: #f0f8ff;border: 1px dotted black;border-radius: 0.25em;box-sizing: border-box;margin-bottom: 0.5em;}#sk-container-id-2 div.sk-estimator:hover {background-color: #d4ebff;}#sk-container-id-2 div.sk-parallel-item::after {content: \"\";width: 100%;border-bottom: 1px solid gray;flex-grow: 1;}#sk-container-id-2 div.sk-label:hover label.sk-toggleable__label {background-color: #d4ebff;}#sk-container-id-2 div.sk-serial::before {content: \"\";position: absolute;border-left: 1px solid gray;box-sizing: border-box;top: 0;bottom: 0;left: 50%;z-index: 0;}#sk-container-id-2 div.sk-serial {display: flex;flex-direction: column;align-items: center;background-color: white;padding-right: 0.2em;padding-left: 0.2em;position: relative;}#sk-container-id-2 div.sk-item {position: relative;z-index: 1;}#sk-container-id-2 div.sk-parallel {display: flex;align-items: stretch;justify-content: center;background-color: white;position: relative;}#sk-container-id-2 div.sk-item::before, #sk-container-id-2 div.sk-parallel-item::before {content: \"\";position: absolute;border-left: 1px solid gray;box-sizing: border-box;top: 0;bottom: 0;left: 50%;z-index: -1;}#sk-container-id-2 div.sk-parallel-item {display: flex;flex-direction: column;z-index: 1;position: relative;background-color: white;}#sk-container-id-2 div.sk-parallel-item:first-child::after {align-self: flex-end;width: 50%;}#sk-container-id-2 div.sk-parallel-item:last-child::after {align-self: flex-start;width: 50%;}#sk-container-id-2 div.sk-parallel-item:only-child::after {width: 0;}#sk-container-id-2 div.sk-dashed-wrapped {border: 1px dashed gray;margin: 0 0.4em 0.5em 0.4em;box-sizing: border-box;padding-bottom: 0.4em;background-color: white;}#sk-container-id-2 div.sk-label label {font-family: monospace;font-weight: bold;display: inline-block;line-height: 1.2em;}#sk-container-id-2 div.sk-label-container {text-align: center;}#sk-container-id-2 div.sk-container {/* jupyter's `normalize.less` sets `[hidden] { display: none; }` but bootstrap.min.css set `[hidden] { display: none !important; }` so we also need the `!important` here to be able to override the default hidden behavior on the sphinx rendered scikit-learn.org. See: https://github.com/scikit-learn/scikit-learn/issues/21755 */display: inline-block !important;position: relative;}#sk-container-id-2 div.sk-text-repr-fallback {display: none;}</style><div id=\"sk-container-id-2\" class=\"sk-top-container\"><div class=\"sk-text-repr-fallback\"><pre>GridSearchCV(cv=5, estimator=SVC(),\n",
       "             param_grid=[{&#x27;C&#x27;: [1, 10, 100, 1000],\n",
       "                          &#x27;gamma&#x27;: [0.0001, 0.001, 0.01, 0.1, 0.2, 0.5],\n",
       "                          &#x27;kernel&#x27;: [&#x27;rbf&#x27;]},\n",
       "                         {&#x27;C&#x27;: [1, 10, 100, 1000], &#x27;kernel&#x27;: [&#x27;linear&#x27;]}])</pre><b>In a Jupyter environment, please rerun this cell to show the HTML representation or trust the notebook. <br />On GitHub, the HTML representation is unable to render, please try loading this page with nbviewer.org.</b></div><div class=\"sk-container\" hidden><div class=\"sk-item sk-dashed-wrapped\"><div class=\"sk-label-container\"><div class=\"sk-label sk-toggleable\"><input class=\"sk-toggleable__control sk-hidden--visually\" id=\"sk-estimator-id-2\" type=\"checkbox\" ><label for=\"sk-estimator-id-2\" class=\"sk-toggleable__label sk-toggleable__label-arrow\">GridSearchCV</label><div class=\"sk-toggleable__content\"><pre>GridSearchCV(cv=5, estimator=SVC(),\n",
       "             param_grid=[{&#x27;C&#x27;: [1, 10, 100, 1000],\n",
       "                          &#x27;gamma&#x27;: [0.0001, 0.001, 0.01, 0.1, 0.2, 0.5],\n",
       "                          &#x27;kernel&#x27;: [&#x27;rbf&#x27;]},\n",
       "                         {&#x27;C&#x27;: [1, 10, 100, 1000], &#x27;kernel&#x27;: [&#x27;linear&#x27;]}])</pre></div></div></div><div class=\"sk-parallel\"><div class=\"sk-parallel-item\"><div class=\"sk-item\"><div class=\"sk-label-container\"><div class=\"sk-label sk-toggleable\"><input class=\"sk-toggleable__control sk-hidden--visually\" id=\"sk-estimator-id-3\" type=\"checkbox\" ><label for=\"sk-estimator-id-3\" class=\"sk-toggleable__label sk-toggleable__label-arrow\">estimator: SVC</label><div class=\"sk-toggleable__content\"><pre>SVC()</pre></div></div></div><div class=\"sk-serial\"><div class=\"sk-item\"><div class=\"sk-estimator sk-toggleable\"><input class=\"sk-toggleable__control sk-hidden--visually\" id=\"sk-estimator-id-4\" type=\"checkbox\" ><label for=\"sk-estimator-id-4\" class=\"sk-toggleable__label sk-toggleable__label-arrow\">SVC</label><div class=\"sk-toggleable__content\"><pre>SVC()</pre></div></div></div></div></div></div></div></div></div></div>"
      ],
      "text/plain": [
       "GridSearchCV(cv=5, estimator=SVC(),\n",
       "             param_grid=[{'C': [1, 10, 100, 1000],\n",
       "                          'gamma': [0.0001, 0.001, 0.01, 0.1, 0.2, 0.5],\n",
       "                          'kernel': ['rbf']},\n",
       "                         {'C': [1, 10, 100, 1000], 'kernel': ['linear']}])"
      ]
     },
     "execution_count": 34,
     "metadata": {},
     "output_type": "execute_result"
    }
   ],
   "source": [
    "svm_clf = GridSearchCV(svm.SVC(decision_function_shape='ovr'), parameters, cv=5)\n",
    "svm_clf.fit(X_train, y_train)"
   ]
  },
  {
   "cell_type": "code",
   "execution_count": 35,
   "metadata": {},
   "outputs": [
    {
     "data": {
      "text/plain": [
       "{'C': 1000, 'gamma': 0.01, 'kernel': 'rbf'}"
      ]
     },
     "execution_count": 35,
     "metadata": {},
     "output_type": "execute_result"
    }
   ],
   "source": [
    "svm_clf.best_params_"
   ]
  },
  {
   "cell_type": "code",
   "execution_count": 36,
   "metadata": {},
   "outputs": [
    {
     "name": "stdout",
     "output_type": "stream",
     "text": [
      "              precision    recall  f1-score   support\n",
      "\n",
      "           0       0.82      0.80      0.81       290\n",
      "           1       0.88      0.94      0.91       451\n",
      "           2       0.93      0.98      0.96       298\n",
      "           3       0.71      0.51      0.60        49\n",
      "           4       0.87      0.83      0.85       318\n",
      "           5       0.89      0.91      0.90       450\n",
      "           6       0.97      0.92      0.94        96\n",
      "           7       0.83      0.77      0.80       286\n",
      "           8       0.99      1.00      0.99       266\n",
      "\n",
      "    accuracy                           0.89      2504\n",
      "   macro avg       0.88      0.85      0.86      2504\n",
      "weighted avg       0.89      0.89      0.89      2504\n",
      "\n"
     ]
    },
    {
     "ename": "AttributeError",
     "evalue": "'float' object has no attribute 'values'",
     "output_type": "error",
     "traceback": [
      "\u001b[1;31m---------------------------------------------------------------------------\u001b[0m",
      "\u001b[1;31mAttributeError\u001b[0m                            Traceback (most recent call last)",
      "Cell \u001b[1;32mIn[36], line 15\u001b[0m\n\u001b[0;32m     13\u001b[0m \u001b[39m# Extract the class names and metrics from the report\u001b[39;00m\n\u001b[0;32m     14\u001b[0m class_names \u001b[39m=\u001b[39m \u001b[39mlist\u001b[39m(report\u001b[39m.\u001b[39mkeys())\n\u001b[1;32m---> 15\u001b[0m class_metrics \u001b[39m=\u001b[39m [\u001b[39mlist\u001b[39m(report[key]\u001b[39m.\u001b[39mvalues()) \u001b[39mfor\u001b[39;00m key \u001b[39min\u001b[39;00m class_names]\n\u001b[0;32m     17\u001b[0m \u001b[39m# Create a figure and axes object\u001b[39;00m\n\u001b[0;32m     18\u001b[0m fig, ax \u001b[39m=\u001b[39m plt\u001b[39m.\u001b[39msubplots()\n",
      "Cell \u001b[1;32mIn[36], line 15\u001b[0m, in \u001b[0;36m<listcomp>\u001b[1;34m(.0)\u001b[0m\n\u001b[0;32m     13\u001b[0m \u001b[39m# Extract the class names and metrics from the report\u001b[39;00m\n\u001b[0;32m     14\u001b[0m class_names \u001b[39m=\u001b[39m \u001b[39mlist\u001b[39m(report\u001b[39m.\u001b[39mkeys())\n\u001b[1;32m---> 15\u001b[0m class_metrics \u001b[39m=\u001b[39m [\u001b[39mlist\u001b[39m(report[key]\u001b[39m.\u001b[39;49mvalues()) \u001b[39mfor\u001b[39;00m key \u001b[39min\u001b[39;00m class_names]\n\u001b[0;32m     17\u001b[0m \u001b[39m# Create a figure and axes object\u001b[39;00m\n\u001b[0;32m     18\u001b[0m fig, ax \u001b[39m=\u001b[39m plt\u001b[39m.\u001b[39msubplots()\n",
      "\u001b[1;31mAttributeError\u001b[0m: 'float' object has no attribute 'values'"
     ]
    }
   ],
   "source": [
    "print(metrics.classification_report(y_test, y_pred))\n",
    "import matplotlib.pyplot as plt\n",
    "\n",
    "# Evaluate the model\n",
    "report = metrics.classification_report(y_test, y_pred, output_dict=True)\n",
    "ac_m = metrics.accuracy_score(y_test, y_pred)\n",
    "\n",
    "import matplotlib.pyplot as plt\n",
    "\n",
    "# Get the classification report as a dictionary\n",
    "report = metrics.classification_report(y_test, y_pred, output_dict=True)\n",
    "\n",
    "# Extract the class names and metrics from the report\n",
    "class_names = list(report.keys())\n",
    "class_metrics = [list(report[key].values()) for key in class_names]\n",
    "\n",
    "# Create a figure and axes object\n",
    "fig, ax = plt.subplots()\n",
    "\n",
    "# Create a table object and plot it on the axes\n",
    "table = ax.table(cellText=class_metrics, colLabels=list(report[class_names[0]].keys()), rowLabels=class_names, loc='center')\n",
    "\n",
    "# Set the font size and cell width\n",
    "table.auto_set_font_size(False)\n",
    "table.set_fontsize(14)\n",
    "table.scale(1, 1.5)\n",
    "\n",
    "# Hide the axes\n",
    "ax.axis('off')\n",
    "\n",
    "# Show the plot\n",
    "plt.show()\n"
   ]
  },
  {
   "cell_type": "code",
   "execution_count": null,
   "metadata": {},
   "outputs": [
    {
     "data": {
      "text/plain": [
       "5"
      ]
     },
     "execution_count": 35,
     "metadata": {},
     "output_type": "execute_result"
    }
   ],
   "source": [
    "int(int(clf.predict(X_train[0:1])))"
   ]
  },
  {
   "cell_type": "code",
   "execution_count": null,
   "metadata": {},
   "outputs": [
    {
     "data": {
      "text/html": [
       "<style>#sk-container-id-3 {color: black;background-color: white;}#sk-container-id-3 pre{padding: 0;}#sk-container-id-3 div.sk-toggleable {background-color: white;}#sk-container-id-3 label.sk-toggleable__label {cursor: pointer;display: block;width: 100%;margin-bottom: 0;padding: 0.3em;box-sizing: border-box;text-align: center;}#sk-container-id-3 label.sk-toggleable__label-arrow:before {content: \"▸\";float: left;margin-right: 0.25em;color: #696969;}#sk-container-id-3 label.sk-toggleable__label-arrow:hover:before {color: black;}#sk-container-id-3 div.sk-estimator:hover label.sk-toggleable__label-arrow:before {color: black;}#sk-container-id-3 div.sk-toggleable__content {max-height: 0;max-width: 0;overflow: hidden;text-align: left;background-color: #f0f8ff;}#sk-container-id-3 div.sk-toggleable__content pre {margin: 0.2em;color: black;border-radius: 0.25em;background-color: #f0f8ff;}#sk-container-id-3 input.sk-toggleable__control:checked~div.sk-toggleable__content {max-height: 200px;max-width: 100%;overflow: auto;}#sk-container-id-3 input.sk-toggleable__control:checked~label.sk-toggleable__label-arrow:before {content: \"▾\";}#sk-container-id-3 div.sk-estimator input.sk-toggleable__control:checked~label.sk-toggleable__label {background-color: #d4ebff;}#sk-container-id-3 div.sk-label input.sk-toggleable__control:checked~label.sk-toggleable__label {background-color: #d4ebff;}#sk-container-id-3 input.sk-hidden--visually {border: 0;clip: rect(1px 1px 1px 1px);clip: rect(1px, 1px, 1px, 1px);height: 1px;margin: -1px;overflow: hidden;padding: 0;position: absolute;width: 1px;}#sk-container-id-3 div.sk-estimator {font-family: monospace;background-color: #f0f8ff;border: 1px dotted black;border-radius: 0.25em;box-sizing: border-box;margin-bottom: 0.5em;}#sk-container-id-3 div.sk-estimator:hover {background-color: #d4ebff;}#sk-container-id-3 div.sk-parallel-item::after {content: \"\";width: 100%;border-bottom: 1px solid gray;flex-grow: 1;}#sk-container-id-3 div.sk-label:hover label.sk-toggleable__label {background-color: #d4ebff;}#sk-container-id-3 div.sk-serial::before {content: \"\";position: absolute;border-left: 1px solid gray;box-sizing: border-box;top: 0;bottom: 0;left: 50%;z-index: 0;}#sk-container-id-3 div.sk-serial {display: flex;flex-direction: column;align-items: center;background-color: white;padding-right: 0.2em;padding-left: 0.2em;position: relative;}#sk-container-id-3 div.sk-item {position: relative;z-index: 1;}#sk-container-id-3 div.sk-parallel {display: flex;align-items: stretch;justify-content: center;background-color: white;position: relative;}#sk-container-id-3 div.sk-item::before, #sk-container-id-3 div.sk-parallel-item::before {content: \"\";position: absolute;border-left: 1px solid gray;box-sizing: border-box;top: 0;bottom: 0;left: 50%;z-index: -1;}#sk-container-id-3 div.sk-parallel-item {display: flex;flex-direction: column;z-index: 1;position: relative;background-color: white;}#sk-container-id-3 div.sk-parallel-item:first-child::after {align-self: flex-end;width: 50%;}#sk-container-id-3 div.sk-parallel-item:last-child::after {align-self: flex-start;width: 50%;}#sk-container-id-3 div.sk-parallel-item:only-child::after {width: 0;}#sk-container-id-3 div.sk-dashed-wrapped {border: 1px dashed gray;margin: 0 0.4em 0.5em 0.4em;box-sizing: border-box;padding-bottom: 0.4em;background-color: white;}#sk-container-id-3 div.sk-label label {font-family: monospace;font-weight: bold;display: inline-block;line-height: 1.2em;}#sk-container-id-3 div.sk-label-container {text-align: center;}#sk-container-id-3 div.sk-container {/* jupyter's `normalize.less` sets `[hidden] { display: none; }` but bootstrap.min.css set `[hidden] { display: none !important; }` so we also need the `!important` here to be able to override the default hidden behavior on the sphinx rendered scikit-learn.org. See: https://github.com/scikit-learn/scikit-learn/issues/21755 */display: inline-block !important;position: relative;}#sk-container-id-3 div.sk-text-repr-fallback {display: none;}</style><div id=\"sk-container-id-3\" class=\"sk-top-container\"><div class=\"sk-text-repr-fallback\"><pre>SVC(C=100.0, gamma=0.1)</pre><b>In a Jupyter environment, please rerun this cell to show the HTML representation or trust the notebook. <br />On GitHub, the HTML representation is unable to render, please try loading this page with nbviewer.org.</b></div><div class=\"sk-container\" hidden><div class=\"sk-item\"><div class=\"sk-estimator sk-toggleable\"><input class=\"sk-toggleable__control sk-hidden--visually\" id=\"sk-estimator-id-5\" type=\"checkbox\" checked><label for=\"sk-estimator-id-5\" class=\"sk-toggleable__label sk-toggleable__label-arrow\">SVC</label><div class=\"sk-toggleable__content\"><pre>SVC(C=100.0, gamma=0.1)</pre></div></div></div></div></div>"
      ],
      "text/plain": [
       "SVC(C=100.0, gamma=0.1)"
      ]
     },
     "execution_count": 36,
     "metadata": {},
     "output_type": "execute_result"
    }
   ],
   "source": [
    "clf = svm.SVC(C=100.0, cache_size=200, class_weight=None, coef0=0.0,\n",
    "  decision_function_shape='ovr', degree=3, gamma=0.1, kernel='rbf',\n",
    "  max_iter=-1, probability=False, random_state=None, shrinking=True,\n",
    "  tol=0.001, verbose=False)\n",
    "clf.fit(X_train,y_train)"
   ]
  },
  {
   "cell_type": "code",
   "execution_count": null,
   "metadata": {},
   "outputs": [],
   "source": [
    "y_pred = clf.predict(X_test)"
   ]
  },
  {
   "cell_type": "code",
   "execution_count": null,
   "metadata": {},
   "outputs": [
    {
     "data": {
      "text/plain": [
       "0.8949680511182109"
      ]
     },
     "execution_count": 38,
     "metadata": {},
     "output_type": "execute_result"
    }
   ],
   "source": [
    "metrics.accuracy_score(y_test, y_pred)"
   ]
  },
  {
   "cell_type": "code",
   "execution_count": null,
   "metadata": {},
   "outputs": [
    {
     "name": "stdout",
     "output_type": "stream",
     "text": [
      "[[242  19   9   1   3   7   0   9   0]\n",
      " [ 15 414   1   8   3   0   0  10   0]\n",
      " [  2   0 289   0   5   1   0   1   0]\n",
      " [ 11   8   0  27   1   1   0   1   0]\n",
      " [  4   6   7   0 276   9   1  15   0]\n",
      " [  8   2   1   0  12 407   3  13   4]\n",
      " [  1   0   0   0   2   4  89   0   0]\n",
      " [ 14   6   3   2  18  11   0 232   0]\n",
      " [  0   0   0   0   0   1   0   0 265]]\n"
     ]
    }
   ],
   "source": [
    "from sklearn.metrics import confusion_matrix\n",
    "\n",
    "# Make predictions on test data\n",
    "y_pred = clf.predict(X_test)\n",
    "\n",
    "# Generate confusion matrix\n",
    "cm = confusion_matrix(y_test, y_pred)\n",
    "print(cm)\n"
   ]
  },
  {
   "cell_type": "code",
   "execution_count": null,
   "metadata": {},
   "outputs": [
    {
     "data": {
      "image/png": "[encoded data removed]",
      "text/plain": [
       "<Figure size 640x480 with 2 Axes>"
      ]
     },
     "metadata": {},
     "output_type": "display_data"
    }
   ],
   "source": [
    "import numpy as np\n",
    "import matplotlib.pyplot as plt\n",
    "from sklearn.metrics import confusion_matrix, ConfusionMatrixDisplay\n",
    "\n",
    "# Get predicted labels\n",
    "y_pred = clf.predict(X_test)\n",
    "\n",
    "# Get confusion matrix\n",
    "cm = confusion_matrix(y_test, y_pred)\n",
    "\n",
    "# Define class labels\n",
    "class_names = ['Class 1', 'Class 2', 'Class 3', 'Class 4', 'Class 5', 'Class 6', 'Class 7', 'Class 8', 'Class 9']\n",
    "\n",
    "# Plot confusion matrix\n",
    "disp = ConfusionMatrixDisplay(confusion_matrix=cm, display_labels=class_names, )\n",
    "disp.plot(include_values=True, cmap=plt.cm.Blues)\n",
    "plt.xlabel('Predicted')\n",
    "plt.xticks(rotation = 25)\n",
    "plt.ylabel('Actual')\n",
    "plt.show()\n"
   ]
  },
  {
   "cell_type": "code",
   "execution_count": null,
   "metadata": {},
   "outputs": [
    {
     "ename": "NameError",
     "evalue": "name 'svm' is not defined",
     "output_type": "error",
     "traceback": [
      "\u001b[1;31m---------------------------------------------------------------------------\u001b[0m",
      "\u001b[1;31mNameError\u001b[0m                                 Traceback (most recent call last)",
      "Cell \u001b[1;32mIn[2], line 5\u001b[0m\n\u001b[0;32m      2\u001b[0m \u001b[39mimport\u001b[39;00m \u001b[39mmatplotlib\u001b[39;00m\u001b[39m.\u001b[39;00m\u001b[39mpyplot\u001b[39;00m \u001b[39mas\u001b[39;00m \u001b[39mplt\u001b[39;00m\n\u001b[0;32m      3\u001b[0m \u001b[39mimport\u001b[39;00m \u001b[39mnumpy\u001b[39;00m \u001b[39mas\u001b[39;00m \u001b[39mnp\u001b[39;00m\n\u001b[1;32m----> 5\u001b[0m svm \u001b[39m=\u001b[39m svm\u001b[39m.\u001b[39mSVC(kernel\u001b[39m=\u001b[39m\u001b[39m'\u001b[39m\u001b[39mrbf\u001b[39m\u001b[39m'\u001b[39m, C\u001b[39m=\u001b[39m\u001b[39m1\u001b[39m, gamma\u001b[39m=\u001b[39m\u001b[39m'\u001b[39m\u001b[39mscale\u001b[39m\u001b[39m'\u001b[39m)\n\u001b[0;32m      6\u001b[0m cv_scores \u001b[39m=\u001b[39m cross_val_score(svm, X_train, y_train, cv\u001b[39m=\u001b[39m\u001b[39m5\u001b[39m, scoring\u001b[39m=\u001b[39m\u001b[39m'\u001b[39m\u001b[39maccuracy\u001b[39m\u001b[39m'\u001b[39m)\n\u001b[0;32m      7\u001b[0m train_scores, val_scores \u001b[39m=\u001b[39m [], []\n",
      "\u001b[1;31mNameError\u001b[0m: name 'svm' is not defined"
     ]
    }
   ],
   "source": [
    "from sklearn.model_selection import cross_val_score\n",
    "import matplotlib.pyplot as plt\n",
    "import numpy as np\n",
    "\n",
    "svm = svm.SVC(kernel='rbf', C=1, gamma='scale')\n",
    "cv_scores = cross_val_score(svm, X_train, y_train, cv=5, scoring='accuracy')\n",
    "train_scores, val_scores = [], []\n",
    "for i in range(1, 6):\n",
    "    svm.fit(X_train[:int(i*len(X_train)/5)], y_train[:int(i*len(X_train)/5)])\n",
    "    train_scores.append(svm.score(X_train[:int(i*len(X_train)/5)], y_train[:int(i*len(X_train)/5)]))\n",
    "    val_scores.append(svm.score(X_test, y_test))\n",
    "\n",
    "fig, ax = plt.subplots(1, 2, figsize=(12, 4))\n",
    "ax[0].plot(np.arange(1, 6), train_scores, label='train')\n",
    "ax[0].plot(np.arange(1, 6), val_scores, label='val')\n",
    "ax[0].set_xlabel('Number of folds')\n",
    "ax[0].set_ylabel('Accuracy')\n",
    "ax[0].legend()\n",
    "ax[1].boxplot(cv_scores)\n",
    "ax[1].set_xlabel('CV folds')\n",
    "ax[1].set_ylabel('Accuracy')\n",
    "plt.show()\n"
   ]
  },
  {
   "cell_type": "markdown",
   "metadata": {},
   "source": [
    "#KNN MODEL"
   ]
  },
  {
   "cell_type": "code",
   "execution_count": null,
   "metadata": {},
   "outputs": [],
   "source": [
    "from sklearn.neighbors import KNeighborsClassifier\n",
    "from sklearn.metrics import classification_report\n",
    "import numpy as np"
   ]
  },
  {
   "cell_type": "code",
   "execution_count": null,
   "metadata": {},
   "outputs": [],
   "source": [
    "# Reshape the data\n",
    "X_train = X_train.reshape(X_train.shape[0], -1)\n",
    "X_test = X_test.reshape(X_test.shape[0], -1)"
   ]
  },
  {
   "cell_type": "code",
   "execution_count": null,
   "metadata": {},
   "outputs": [
    {
     "name": "stdout",
     "output_type": "stream",
     "text": [
      "              precision    recall  f1-score   support\n",
      "\n",
      "           0       0.75      0.65      0.70       290\n",
      "           1       0.82      0.81      0.81       451\n",
      "           2       0.87      0.91      0.89       298\n",
      "           3       0.72      0.27      0.39        49\n",
      "           4       0.75      0.77      0.76       318\n",
      "           5       0.75      0.88      0.81       450\n",
      "           6       0.91      0.73      0.81        96\n",
      "           7       0.72      0.71      0.72       286\n",
      "           8       0.95      0.96      0.96       266\n",
      "\n",
      "    accuracy                           0.80      2504\n",
      "   macro avg       0.81      0.74      0.76      2504\n",
      "weighted avg       0.80      0.80      0.80      2504\n",
      "\n"
     ]
    }
   ],
   "source": [
    "# Create the KNN classifier\n",
    "knn = KNeighborsClassifier(n_neighbors=11, weights= 'distance', algorithm='ball_tree', leaf_size=30, p=2)\n",
    "# Train the model\n",
    "knn.fit(X_train, y_train)\n",
    "\n",
    "# Make predictions on test data\n",
    "y_pred = knn.predict(X_test)\n",
    "\n",
    "# Evaluate the model\n",
    "print(classification_report(y_test, y_pred))"
   ]
  }
 ],
 "metadata": {
  "kernelspec": {
   "display_name": "Python 3 (ipykernel)",
   "language": "python",
   "name": "python3"
  },
  "language_info": {
   "codemirror_mode": {
    "name": "ipython",
    "version": 3
   },
   "file_extension": ".py",
   "mimetype": "text/x-python",
   "name": "python",
   "nbconvert_exporter": "python",
   "pygments_lexer": "ipython3",
   "version": "3.9.7"
  }
 },
 "nbformat": 4,
 "nbformat_minor": 2
}
